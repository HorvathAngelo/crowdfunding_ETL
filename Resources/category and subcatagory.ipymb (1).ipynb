{
 "cells": [
  {
   "cell_type": "code",
   "execution_count": 4,
   "id": "f6d286f2",
   "metadata": {},
   "outputs": [
    {
     "name": "stdout",
     "output_type": "stream",
     "text": [
      "  subcategory_id  subcategory\n",
      "0        subcat1  food trucks\n",
      "1        subcat2         rock\n",
      "2        subcat3          web\n",
      "3        subcat4        plays\n",
      "4        subcat5  documentary\n",
      "  category_id      category\n",
      "0        cat1          food\n",
      "1        cat2         music\n",
      "2        cat3    technology\n",
      "3        cat4       theater\n",
      "4        cat5  film & video\n"
     ]
    }
   ],
   "source": [
    "import os\n",
    "import pandas as pd\n",
    "\n",
    "# Specify the Downloads directory\n",
    "downloads_dir = os.path.expanduser(\"~/Downloads\")\n",
    "\n",
    "# Load the Excel data\n",
    "file_path = os.path.join(downloads_dir, \"Starter_Files\", \"Starter_Files\", \"Resources\", \"crowdfunding.xlsx\")\n",
    "data = pd.read_excel(file_path)\n",
    "\n",
    "# Split 'category & sub-category' column into separate 'category' and 'subcategory' columns\n",
    "data[['category', 'subcategory']] = data['category & sub-category'].str.split(pat='/', n=1, expand=True)\n",
    "\n",
    "# Create a subcategory DataFrame\n",
    "subcategory_df = data[['subcategory']].drop_duplicates().reset_index(drop=True)\n",
    "subcategory_df['subcategory_id'] = 'subcat' + (subcategory_df.index + 1).astype(str)\n",
    "\n",
    "# Create a category DataFrame\n",
    "category_df = data[['category']].drop_duplicates().reset_index(drop=True)\n",
    "category_df['category_id'] = 'cat' + (category_df.index + 1).astype(str)\n",
    "\n",
    "# Reorder the columns in DataFrames\n",
    "subcategory_df = subcategory_df[['subcategory_id', 'subcategory']]\n",
    "category_df = category_df[['category_id', 'category']]\n",
    "\n",
    "# Print the first few rows of the data to check the formatted columns\n",
    "print(subcategory_df.head())\n",
    "print(category_df.head())\n",
    "\n",
    "# Save DataFrames to CSV files in the Downloads directory\n",
    "subcategory_csv_path = os.path.join(downloads_dir, \"subcategory.csv\")\n",
    "category_csv_path = os.path.join(downloads_dir, \"category.csv\")\n",
    "\n",
    "subcategory_df.to_csv(subcategory_csv_path, index=False)\n",
    "category_df.to_csv(category_csv_path, index=False)\n"
   ]
  },
  {
   "cell_type": "code",
   "execution_count": null,
   "id": "45edf206",
   "metadata": {},
   "outputs": [],
   "source": []
  }
 ],
 "metadata": {
  "kernelspec": {
   "display_name": "Python 3 (ipykernel)",
   "language": "python",
   "name": "python3"
  },
  "language_info": {
   "codemirror_mode": {
    "name": "ipython",
    "version": 3
   },
   "file_extension": ".py",
   "mimetype": "text/x-python",
   "name": "python",
   "nbconvert_exporter": "python",
   "pygments_lexer": "ipython3",
   "version": "3.10.9"
  }
 },
 "nbformat": 4,
 "nbformat_minor": 5
}
