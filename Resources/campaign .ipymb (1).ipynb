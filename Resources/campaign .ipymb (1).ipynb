{
 "cells": [
  {
   "cell_type": "code",
   "execution_count": null,
   "id": "21e8ed9e",
   "metadata": {},
   "outputs": [],
   "source": [
    "import os\n",
    "import pandas as pd\n",
    "\n",
    "# Specify the file paths\n",
    "downloads_dir = os.path.expanduser(\"~/Downloads\")\n",
    "crowdfunding_file_path = os.path.join(downloads_dir, \"Starter_Files\", \"Starter_Files\", \"Resources\", \"crowdfunding.xlsx\")\n",
    "\n",
    "# Load the Excel data into a Pandas DataFrame\n",
    "campaign_df = pd.read_excel(crowdfunding_file_path)\n",
    "\n",
    "# Rename the \"blurb\" column to \"description\"\n",
    "campaign_df.rename(columns={\"blurb\": \"description\"}, inplace=True)\n",
    "\n",
    "# Convert the \"goal\" and \"pledged\" columns to float\n",
    "campaign_df[\"goal\"] = campaign_df[\"goal\"].astype(float)\n",
    "campaign_df[\"pledged\"] = campaign_df[\"pledged\"].astype(float)\n",
    "\n",
    "# Convert the \"launched_at\" and \"deadline\" columns to datetime\n",
    "campaign_df[\"launch_date\"] = pd.to_datetime(campaign_df[\"launched_at\"], unit=\"s\", utc=True)\n",
    "campaign_df[\"end_date\"] = pd.to_datetime(campaign_df[\"deadline\"], unit=\"s\", utc=True)\n",
    "\n",
    "# Drop the original \"launched_at\" and \"deadline\" columns\n",
    "campaign_df.drop(columns=[\"launched_at\", \"deadline\"], inplace=True)\n",
    "\n",
    "# This is where you should merge with the category and subcategory DataFrames\n",
    "# campaign_df = campaign_df.merge(category_df, left_on=\"category_id\", right_on=\"category_id\")\n",
    "# campaign_df = campaign_df.merge(subcategory_df, left_on=\"subcategory_id\", right_on=\"subcategory_id\")\n",
    "\n",
    "# Drop the redundant \"category_id\" and \"subcategory_id\" columns\n",
    "# campaign_df.drop(columns=[\"category_id\", \"subcategory_id\"], inplace=True)\n",
    "\n",
    "# Export the campaign DataFrame as \"campaign.csv\"\n",
    "campaign_csv_path = os.path.join(downloads_dir, \"campaign.csv\")\n",
    "campaign_df.to_csv(campaign_csv_path, index=False)\n"
   ]
  }
 ],
 "metadata": {
  "kernelspec": {
   "display_name": "Python 3 (ipykernel)",
   "language": "python",
   "name": "python3"
  },
  "language_info": {
   "codemirror_mode": {
    "name": "ipython",
    "version": 3
   },
   "file_extension": ".py",
   "mimetype": "text/x-python",
   "name": "python",
   "nbconvert_exporter": "python",
   "pygments_lexer": "ipython3",
   "version": "3.10.9"
  }
 },
 "nbformat": 4,
 "nbformat_minor": 5
}
