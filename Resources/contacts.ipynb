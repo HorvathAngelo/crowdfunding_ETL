{
 "cells": [
  {
   "cell_type": "code",
   "execution_count": null,
   "metadata": {},
   "outputs": [],
   "source": [
    "import pandas as pd\n",
    "\n",
    "# Import the \"contacts.xlsx\" file into a DataFrame\n",
    "contacts_df = pd.read_excel(\"contacts.xlsx\")\n",
    "\n"
   ]
  },
  {
   "cell_type": "code",
   "execution_count": null,
   "metadata": {},
   "outputs": [],
   "source": [
    "# Initialize empty lists to store extracted data\n",
    "first_names = []\n",
    "last_names = []\n",
    "emails = []\n",
    "phone_numbers = []\n"
   ]
  },
  {
   "cell_type": "code",
   "execution_count": null,
   "metadata": {},
   "outputs": [],
   "source": [
    "# Iterate through the DataFrame, converting each row to a dictionary\n",
    "for _, row in contacts_df.iterrows():\n",
    "\n",
    "# Extract dictionary values using a list comprehension\n",
    "values = {key: row[key] for key in row.keys()}\n",
    "\n"
   ]
  },
  {
   "cell_type": "code",
   "execution_count": null,
   "metadata": {},
   "outputs": [],
   "source": [
    "# Append the extracted values to respective lists\n",
    "first_names.append(values.get(\"name\").split()[0])\n",
    "last_names.append(values.get(\"name\").split()[-1])\n",
    "emails.append(values.get(\"email\"))\n",
    "phone_numbers.append(values.get(\"phone\"))\n",
    "\n",
    "# Create a new DataFrame with the extracted data\n",
    "extracted_data = pd.DataFrame({\n",
    "\n",
    "\"First Name\": first_names,\n",
    "\"Last Name\": last_names,\n",
    "\"Email\": emails,\n",
    "\"Phone Number\": phone_numbers\n",
    "})\n",
    "\n",
    "# Export the DataFrame as \"contacts.csv\"\n",
    "extracted_data.to_csv(\"contacts.csv\", index=False)"
   ]
  }
 ],
 "metadata": {
  "language_info": {
   "name": "python"
  },
  "orig_nbformat": 4
 },
 "nbformat": 4,
 "nbformat_minor": 2
}
