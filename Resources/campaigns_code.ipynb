{
 "cells": [
  {
   "cell_type": "code",
   "execution_count": null,
   "metadata": {},
   "outputs": [],
   "source": [
    "import pandas as pd\n",
    "\n",
    "# Load the Excel data into a Pandas DataFrame\n",
    "df = pd.read_excel(\"crowdfunding.xlsx\")\n",
    "\n"
   ]
  },
  {
   "cell_type": "code",
   "execution_count": null,
   "metadata": {},
   "outputs": [],
   "source": [
    "# Rename the \"blurb\" column to \"description\"\n",
    "df.rename(columns={\"blurb\": \"description\"}, inplace=True)\n",
    "\n",
    "# Convert the \"goal\" and \"pledged\" columns to float\n",
    "df[\"goal\"] = df[\"goal\"].astype(float)\n",
    "df[\"pledged\"] = df[\"pledged\"].astype(float)\n",
    "\n",
    "# Convert the \"launched_at\" and \"deadline\" columns to datetime\n",
    "df[\"launch_date\"] = pd.to_datetime(df[\"launched_at\"], unit=\"s\", utc=True)\n",
    "df[\"end_date\"] = pd.to_datetime(df[\"deadline\"], unit=\"s\", utc=True)\n",
    "\n",
    "# Drop the original \"launched_at\" and \"deadline\" columns\n",
    "df.drop(columns=[\"launched_at\", \"deadline\"], inplace=True)\n",
    "\n"
   ]
  },
  {
   "cell_type": "code",
   "execution_count": null,
   "metadata": {},
   "outputs": [],
   "source": [
    "# If you named the category and subcategory dataframes something else please change here \n",
    "df = df.merge(category_df, left_on=\"category_id\", right_on=\"category_id\")\n",
    "df = df.merge(subcategory_df, left_on=\"subcategory_id\", right_on=\"subcategory_id\")\n",
    "\n",
    "# Drop the redundant \"category_id\" and \"subcategory_id\" columns\n",
    "df.drop(columns=[\"category_id\", \"subcategory_id\"], inplace=True)\n",
    "\n",
    "# Export the campaign DataFrame as \"campaign.csv\"\n",
    "df.to_csv(\"campaign.csv\", index=False)"
   ]
  }
 ],
 "metadata": {
  "language_info": {
   "name": "python"
  },
  "orig_nbformat": 4
 },
 "nbformat": 4,
 "nbformat_minor": 2
}
