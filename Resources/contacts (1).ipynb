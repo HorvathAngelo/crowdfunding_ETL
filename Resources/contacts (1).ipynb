{
 "cells": [
  {
   "cell_type": "code",
   "execution_count": 1,
   "id": "c0a648be",
   "metadata": {},
   "outputs": [
    {
     "name": "stdout",
     "output_type": "stream",
     "text": [
      "   contact_id               name                         email\n",
      "0        4661    Cecilia Velasco  cecilia.velasco@rodrigues.fr\n",
      "1        3765      Mariana Ellis       mariana.ellis@rossi.org\n",
      "2        4187        Sofie Woods       sofie.woods@riviere.com\n",
      "3        4941  Jeanette Iannotti   jeanette.iannotti@yahoo.com\n",
      "4        2199     Samuel Sorgatz      samuel.sorgatz@gmail.com\n",
      "CSV file saved to C:\\Users\\Horva\\Downloads\\contacts.csv\n"
     ]
    }
   ],
   "source": [
    "import pandas as pd\n",
    "import json\n",
    "import os\n",
    "\n",
    "# Load the Excel file, skip the unnecessary rows, and specify header=None\n",
    "excel_file_path = r'C:\\Users\\Horva\\Downloads\\Starter_Files\\Starter_Files\\Resources\\contacts.xlsx'\n",
    "df = pd.read_excel(excel_file_path, skiprows=3, header=None)\n",
    "\n",
    "# Filter rows that contain valid JSON-like records\n",
    "valid_rows = df[0].apply(lambda x: x.startswith('{') and x.endswith('}'))\n",
    "\n",
    "# Extract the JSON-like records and store them in a list\n",
    "contact_info = df[0][valid_rows].apply(json.loads)\n",
    "\n",
    "# Create a DataFrame from the list of dictionaries\n",
    "contact_df = pd.DataFrame(contact_info.tolist())\n",
    "\n",
    "# Print the first few rows of the DataFrame to inspect the extracted data\n",
    "print(contact_df.head())\n",
    "\n",
    "# Get the user's Downloads folder path\n",
    "downloads_folder = os.path.expanduser('~\\\\Downloads')\n",
    "\n",
    "# Save the DataFrame to a CSV file in the Downloads folder\n",
    "csv_file_path = os.path.join(downloads_folder, 'contacts.csv')\n",
    "contact_df.to_csv(csv_file_path, index=False)\n",
    "\n",
    "print(f\"CSV file saved to {csv_file_path}\")\n",
    "\n"
   ]
  },
  {
   "cell_type": "code",
   "execution_count": null,
   "id": "29717da2",
   "metadata": {},
   "outputs": [],
   "source": []
  }
 ],
 "metadata": {
  "kernelspec": {
   "display_name": "Python 3 (ipykernel)",
   "language": "python",
   "name": "python3"
  },
  "language_info": {
   "codemirror_mode": {
    "name": "ipython",
    "version": 3
   },
   "file_extension": ".py",
   "mimetype": "text/x-python",
   "name": "python",
   "nbconvert_exporter": "python",
   "pygments_lexer": "ipython3",
   "version": "3.10.9"
  }
 },
 "nbformat": 4,
 "nbformat_minor": 5
}
